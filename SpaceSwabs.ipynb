{
 "cells": [
  {
   "cell_type": "markdown",
   "metadata": {},
   "source": [
    "## This notebook is for the analysis of 15 16S PCR libraries that were produced from the swabs that the astronaut used to samples the ISS as a part of Project MERCCURI.</p></p>  Before launching this ipython notebook, I typed the macqiime command to configure the shell. I'm using macqiime 1.8.0 http://www.wernerlab.org/software/macqiime/macqiime-installation  "
   ]
  },
  {
   "cell_type": "markdown",
   "metadata": {},
   "source": [
    "#### This workflow depends on the presence of 4 files.</p></p>1) demultiplexed sequences</p>2) a mapping file</p>3) a perlscript (code is below)</p>4) a parameter file (parameters.txt) with the following 2 lines:</p>pick_otus:enable_rev_strand_match       True</p> make_emperor:ignore_missing_samples\tTrue</p>To run a different project through this workflow:</p></p>1) do a search and replace for SpaceSwabs.</p>2) change the -e value for the core diversity analyses."
   ]
  },
  {
   "cell_type": "markdown",
   "metadata": {},
   "source": [
    "#### I copied the stuff below from a QIIME/iPython notebook tutorial: http://nbviewer.ipython.org/github/qiime/qiime/blob/1.8.0/examples/ipynb/illumina_overview_tutorial.ipynb</p></p>I'm not sure what all of it does..."
   ]
  },
  {
   "cell_type": "code",
   "execution_count": 1,
   "metadata": {
    "collapsed": false
   },
   "outputs": [],
   "source": [
    "from os import chdir, mkdir\n",
    "from os.path import join\n",
    "#the following are only available in the current development branch of IPython\n",
    "from IPython.display import FileLinks, FileLink"
   ]
  },
  {
   "cell_type": "markdown",
   "metadata": {},
   "source": [
    "#### The version of macqiime that I'm using does not install the greengenes 99% cutoff OTUs and taxonomy, so did that manually as per the instructions on the MacQIIME Installation site. I just substituted the gg_13_8_otus folder that has all of the otu cutoffs for the one included in macqiime/greengenes/ "
   ]
  },
  {
   "cell_type": "code",
   "execution_count": 2,
   "metadata": {
    "collapsed": false
   },
   "outputs": [],
   "source": [
    "mapping_file = \"SpaceSwabs.txt\"\n",
    "otu_base = \"/macqiime/greengenes/gg_13_8_otus/\"\n",
    "reference_seqs_99 = join(otu_base,\"/macqiime/greengenes/gg_13_8_otus/rep_set/99_otus.fasta\")\n",
    "reference_tree_99 = join(otu_base,\"/macqiime/greengenes/gg_13_8_otus/trees/99_otus.tree\")\n",
    "reference_tax_99 = join(otu_base,\"/macqiime/greengenes/gg_13_8_otus/taxonomy/99_otu_taxonomy.txt\")\n",
    "reference_seqs_97 = join(otu_base,\"/macqiime/greengenes/gg_13_8_otus/rep_set/97_otus.fasta\")\n",
    "reference_tree_97 = join(otu_base,\"/macqiime/greengenes/gg_13_8_otus/trees/97_otus.tree\")\n",
    "reference_tax_97 = join(otu_base,\"/macqiime/greengenes/gg_13_8_otus/taxonomy/97_otu_taxonomy.txt\")\n",
    "pynast_ref_alignment = join(otu_base, \"/macqiime/QIIME/qiime_test_data/identify_chimeric_seqs/ref_seq_set_aligned.fasta\")"
   ]
  },
  {
   "cell_type": "markdown",
   "metadata": {},
   "source": [
    "### make some directories to hold the output"
   ]
  },
  {
   "cell_type": "code",
   "execution_count": 57,
   "metadata": {
    "collapsed": false
   },
   "outputs": [],
   "source": [
    "!mkdir sequence_data\n",
    "!mkdir OTU_picking\n",
    "!mkdir core_diversity\n",
    "!mkdir biom_tables\n",
    "!mkdir biom_summaries\n",
    "!mkdir misc_files"
   ]
  },
  {
   "cell_type": "markdown",
   "metadata": {},
   "source": [
    "### Make sure mapping file is good to go. This also provides a quick check for macqiime."
   ]
  },
  {
   "cell_type": "code",
   "execution_count": 4,
   "metadata": {
    "collapsed": false
   },
   "outputs": [
    {
     "name": "stdout",
     "output_type": "stream",
     "text": [
      "Errors and/or warnings detected in mapping file.  Please check the log and html file for details.\r\n"
     ]
    }
   ],
   "source": [
    "!validate_mapping_file.py -m $mapping_file\n",
    "!mv SpaceSwabs_corrected.txt SpaceSwabs.txt"
   ]
  },
  {
   "cell_type": "markdown",
   "metadata": {},
   "source": [
    "#### I have this line in my parameter file that makes the following step unecessary, but I do this anyway because our demultiplexing script returns all of the merged sequences in the RC orientation. Flipping them around before doing the OTU-picking makes it run MUCH faster. </p></p>pick_otus:enable_rev_strand_match       True"
   ]
  },
  {
   "cell_type": "code",
   "execution_count": 58,
   "metadata": {
    "collapsed": false
   },
   "outputs": [],
   "source": [
    "!adjust_seq_orientation.py -i SpaceSwabs.fasta -o sequence_data/SpaceSwabs.faa\n",
    "!rm SpaceSwabs.fasta"
   ]
  },
  {
   "cell_type": "markdown",
   "metadata": {},
   "source": [
    "# Pick OTUs"
   ]
  },
  {
   "cell_type": "markdown",
   "metadata": {},
   "source": [
    "#### Because I'm not sure what I will need downstream, I just pick both open- and closed-reference OTUs, clustered at both 97% and 99% similarity. </p></p>The pick_open_reference_otus.py script will cluster all of the sequences, assign taxonomy to the OTUs (when possible, a greengenes ID will be assigned,) choose a representative sequence from each OTU (rep_set), and align and build a phylogenetic tree from the representative sequences. OTUs that do not align to PyNast and singleton OTUs are not included in this biom file (otu_table_mc2_w_tax_no_pynast_failures.biom.)"
   ]
  },
  {
   "cell_type": "code",
   "execution_count": 5,
   "metadata": {
    "collapsed": false
   },
   "outputs": [],
   "source": [
    "!pick_open_reference_otus.py -p parameters.txt -f -r $reference_seqs_97 -i sequence_data/SpaceSwabs.faa -o OTU_picking/SpaceSwabs_97_open_reference_otus -n ISS -a -O 4 \n",
    "!cp OTU_picking/SpaceSwabs_97_open_reference_otus/otu_table_mc2_w_tax_no_pynast_failures.biom biom_tables/97_open.biom"
   ]
  },
  {
   "cell_type": "code",
   "execution_count": 6,
   "metadata": {
    "collapsed": false
   },
   "outputs": [],
   "source": [
    "!pick_open_reference_otus.py -p parameters.txt -f -r $reference_seqs_99 -i sequence_data/SpaceSwabs.faa -o OTU_picking/SpaceSwabs_99_open_reference_otus -n ISS -a -O 4 \n",
    "!cp OTU_picking/SpaceSwabs_97_open_reference_otus/otu_table_mc2_w_tax_no_pynast_failures.biom biom_tables/99_open.biom"
   ]
  },
  {
   "cell_type": "code",
   "execution_count": 1,
   "metadata": {
    "collapsed": false
   },
   "outputs": [
    {
     "name": "stdout",
     "output_type": "stream",
     "text": [
      "97_closed.list                  group_significance.L3.nodes\r\n",
      "97_closed_700_tax.list          group_significance.L4.human\r\n",
      "97_closed_pathos.txt            group_significance.L4.nodes\r\n",
      "\u001b[34mFigures\u001b[m\u001b[m                         group_significance.L4.nodes.001\r\n",
      "\u001b[34mOTU_picking\u001b[m\u001b[m                     group_significance.L4.nodes.01\r\n",
      "Rplot01.pdf                     group_significance.L4.nodes.1\r\n",
      "Rplot05.pdf                     group_significance.L4.touches\r\n",
      "Rplot06.pdf                     group_significance.nodes\r\n",
      "Rplot07.pdf                     heatmap_all_taxa.svg\r\n",
      "SpaceSwabs.csv                  \u001b[34mjs\u001b[m\u001b[m\r\n",
      "SpaceSwabs.faa                  \u001b[34mmisc_files\u001b[m\u001b[m\r\n",
      "SpaceSwabs.ipynb                \u001b[34mopen97\u001b[m\u001b[m\r\n",
      "SpaceSwabs.no2.txt              \u001b[34mopen99\u001b[m\u001b[m\r\n",
      "SpaceSwabs.txt                  parameters.txt\r\n",
      "area_charts.html                pathoID.list\r\n",
      "\u001b[34mbeta_div_bray\u001b[m\u001b[m                   pathos.list\r\n",
      "\u001b[34mbiom_summaries\u001b[m\u001b[m                  pd.txt\r\n",
      "\u001b[34mbiom_tables\u001b[m\u001b[m                     pie_charts.html\r\n",
      "\u001b[34mbiplot_options\u001b[m\u001b[m                  \u001b[34mraw_data\u001b[m\u001b[m\r\n",
      "\u001b[34mcharts\u001b[m\u001b[m                          \u001b[34msequence_data\u001b[m\u001b[m\r\n",
      "\u001b[34mclosed97\u001b[m\u001b[m                        tmp\r\n",
      "\u001b[34mclosed99\u001b[m\u001b[m                        \u001b[34mtop10_plots\u001b[m\u001b[m\r\n",
      "\u001b[34mcore_diversity\u001b[m\u001b[m                  top10_summary\r\n",
      "\u001b[34mcss\u001b[m\u001b[m                             top10list.txt\r\n",
      "\u001b[34mfastafiles\u001b[m\u001b[m                      top48.list\r\n",
      "getlist.pl                      \u001b[34mtop48_plots\u001b[m\u001b[m\r\n",
      "greplist.pl\r\n"
     ]
    }
   ],
   "source": [
    "!ls"
   ]
  },
  {
   "cell_type": "markdown",
   "metadata": {},
   "source": [
    "#### The pick_closed_reference_otus.py script will cluster sequences against a reference (greengenes, here) database. Anything that does not hit a sequence in the database will be excluded from the resultant biom file. No tree is generated here, downstream analyses that depend on one must use a reference (greengenes, here) phylogeny."
   ]
  },
  {
   "cell_type": "code",
   "execution_count": 25,
   "metadata": {
    "collapsed": false
   },
   "outputs": [],
   "source": [
    "!pick_closed_reference_otus.py -p parameters.txt -f -r $reference_seqs_97 -t $reference_tax_97 -i sequence_data/SpaceSwabs.faa -o OTU_picking/SpaceSwabs_97_closed_reference_otus -a -O 4 \n",
    "!cp OTU_picking/SpaceSwabs_97_closed_reference_otus/SpaceSwabs_otu_table.biom biom_tables/97_closed.biom"
   ]
  },
  {
   "cell_type": "markdown",
   "metadata": {
    "collapsed": false
   },
   "source": [
    "## dddddddddddddddddddddddddddddddddddddddddddddddddddddddddddddddddddddddvvvvvvvvvvvvvbva ~~~~~~~~~~~~~~~~~~~~~~~~~~~~~~~~~~~~~~~~~~~~~~~~~~~~~~~~~~~~~~ARG!cp OTU_picking/SpaceSwabs_99_closed_reference_otus/SpaceSwabs_otu_table.biom biom_tables/99_closed.biom"
   ]
  },
  {
   "cell_type": "markdown",
   "metadata": {},
   "source": [
    "### Remove chloroplast, mitochondria, and Unassigned at the domain level (in my experience, these are usually chloroplast, but one can check with a blast search.)"
   ]
  },
  {
   "cell_type": "code",
   "execution_count": 9,
   "metadata": {
    "collapsed": false
   },
   "outputs": [],
   "source": [
    "!filter_taxa_from_otu_table.py -i biom_tables/97_open.biom -o biom_tables/97_open_filtered.biom -n c__Chloroplast,f__mitochondria,Unassigned"
   ]
  },
  {
   "cell_type": "code",
   "execution_count": 10,
   "metadata": {
    "collapsed": false
   },
   "outputs": [],
   "source": [
    "!filter_taxa_from_otu_table.py -i biom_tables/99_open.biom -o biom_tables/99_open_filtered.biom -n c__Chloroplast,f__mitochondria,Unassigned"
   ]
  },
  {
   "cell_type": "code",
   "execution_count": 27,
   "metadata": {
    "collapsed": false
   },
   "outputs": [],
   "source": [
    "!filter_taxa_from_otu_table.py -i biom_tables/97_closed.biom -o biom_tables/97_closed_filtered.biom -n c__Chloroplast,f__mitochondria,Unassigned"
   ]
  },
  {
   "cell_type": "code",
   "execution_count": 28,
   "metadata": {
    "collapsed": false
   },
   "outputs": [],
   "source": [
    "!filter_taxa_from_otu_table.py -i biom_tables/99_closed.biom -o biom_tables/99_closed_filtered.biom -n c__Chloroplast,f__mitochondria,Unassigned"
   ]
  },
  {
   "cell_type": "markdown",
   "metadata": {},
   "source": [
    "### For open-reference-picked OTUs: Identify and remove chimeric sequences. Not a concern with closed-reference OTU-picking, because sequences have to match something in the reference database."
   ]
  },
  {
   "cell_type": "markdown",
   "metadata": {},
   "source": [
    "#### Identify chimeras"
   ]
  },
  {
   "cell_type": "code",
   "execution_count": 13,
   "metadata": {
    "collapsed": false
   },
   "outputs": [
    {
     "name": "stdout",
     "output_type": "stream",
     "text": [
      "Error in identify_chimeric_seqs.py: Required option --input_fasta_fp omitted.\r\n",
      "\r\n",
      "If you need help with QIIME, see:\r\n",
      "http://help.qiime.org\r\n"
     ]
    }
   ],
   "source": [
    "!identify_chimeric_seqs.py -m usearch61"
   ]
  },
  {
   "cell_type": "code",
   "execution_count": 29,
   "metadata": {
    "collapsed": false
   },
   "outputs": [],
   "source": [
    "!identify_chimeric_seqs.py -m ChimeraSlayer -i OTU_picking/SpaceSwabs_97_open_reference_otus/pynast_aligned_seqs/rep_set_aligned.fasta -a $pynast_ref_alignment -o 97_open_chimeras.txt"
   ]
  },
  {
   "cell_type": "code",
   "execution_count": 30,
   "metadata": {
    "collapsed": false
   },
   "outputs": [],
   "source": [
    "!identify_chimeric_seqs.py -m ChimeraSlayer -i OTU_picking/SpaceSwabs_99_open_reference_otus/pynast_aligned_seqs/rep_set_aligned.fasta -a $pynast_ref_alignment -o 99_open_chimeras.txt"
   ]
  },
  {
   "cell_type": "markdown",
   "metadata": {},
   "source": [
    "#### Remove chimeras from OTU table"
   ]
  },
  {
   "cell_type": "code",
   "execution_count": 35,
   "metadata": {
    "collapsed": false
   },
   "outputs": [],
   "source": [
    "!filter_otus_from_otu_table.py -i biom_tables/97_open_filtered.biom -o biom_tables/97_open_filtered_no_chimeras.biom -e 97_open_chimeras.txt"
   ]
  },
  {
   "cell_type": "code",
   "execution_count": 36,
   "metadata": {
    "collapsed": false
   },
   "outputs": [],
   "source": [
    "!filter_otus_from_otu_table.py -i biom_tables/99_open_filtered.biom -o biom_tables/99_open_filtered_no_chimeras.biom -e 99_open_chimeras.txt"
   ]
  },
  {
   "cell_type": "markdown",
   "metadata": {},
   "source": [
    "### Sanity check for the otu tables. Make a note of the values to be used for rarefaction."
   ]
  },
  {
   "cell_type": "code",
   "execution_count": 7,
   "metadata": {
    "collapsed": false
   },
   "outputs": [
    {
     "name": "stdout",
     "output_type": "stream",
     "text": [
      "/bin/sh: per_library_stats.py: command not found\r\n"
     ]
    }
   ],
   "source": [
    "!per_library_stats.py -i biom_tables/97_open_filtered.biom --num_otus"
   ]
  },
  {
   "cell_type": "code",
   "execution_count": 11,
   "metadata": {
    "collapsed": false
   },
   "outputs": [
    {
     "name": "stdout",
     "output_type": "stream",
     "text": [
      "rm: tmp: No such file or directory\n",
      "Num samples: 15\n",
      "Num observations: 13077\n",
      "\n",
      "Observations/sample summary:\n",
      " Min: 1036\n",
      " Max: 4294\n",
      " Median: 1757.000\n",
      " Mean: 2049.867\n",
      " Std. dev.: 806.243\n",
      " Sample Metadata Categories: None provided\n",
      " Observation Metadata Categories: taxonomy\n",
      "\n",
      "Observations/sample detail:\n",
      " SP9: 1036\n",
      " SP2: 1320\n",
      " SP11: 1349\n",
      " SP12: 1429\n",
      " SP7: 1456\n",
      " SP13: 1678\n",
      " SP1: 1744\n",
      " SP10: 1757\n",
      " SP5: 1995\n",
      " SP6: 2129\n",
      " SP15: 2380\n",
      " SP3: 2457\n",
      " SP4: 2820\n",
      " SP14: 2904\n",
      " SP8: 4294\n"
     ]
    }
   ],
   "source": [
    "!rm tmp\n",
    "!biom summarize-table -o tmp -i biom_tables/97_open.biom --qualitative\n",
    "!cat tmp"
   ]
  },
  {
   "cell_type": "code",
   "execution_count": 33,
   "metadata": {
    "collapsed": false
   },
   "outputs": [
    {
     "name": "stdout",
     "output_type": "stream",
     "text": [
      "Num samples: 15\r\n",
      "Num observations: 12554\r\n",
      "Total count: 857296\r\n",
      "Table density (fraction of non-zero values): 0.159\r\n",
      "Table md5 (unzipped): 72f04b83b6a1a9a3c4f4b10eeb86755c\r\n",
      "\r\n",
      "Counts/sample summary:\r\n",
      " Min: 26221.0\r\n",
      " Max: 76656.0\r\n",
      " Median: 60537.000\r\n",
      " Mean: 57153.067\r\n",
      " Std. dev.: 14564.147\r\n",
      " Sample Metadata Categories: None provided\r\n",
      " Observation Metadata Categories: taxonomy\r\n",
      "\r\n",
      "Counts/sample detail:\r\n",
      " SP9: 26221.0\r\n",
      " SP2: 29887.0\r\n",
      " SP1: 43573.0\r\n",
      " SP12: 49621.0\r\n",
      " SP10: 49947.0\r\n",
      " SP15: 56290.0\r\n",
      " SP11: 59525.0\r\n",
      " SP3: 60537.0\r\n",
      " SP13: 61854.0\r\n",
      " SP8: 62778.0\r\n",
      " SP7: 64454.0\r\n",
      " SP14: 68636.0\r\n",
      " SP6: 71861.0\r\n",
      " SP4: 75456.0\r\n",
      " SP5: 76656.0\r\n"
     ]
    }
   ],
   "source": [
    "#!biom summarize-table -i biom_tables/97_open_filtered_no_chimeras.biom -o biom_summaries/97_open_filtered_no_chimeras.summary\n",
    "!cat biom_summaries/97_open_filtered_no_chimeras.summary #rarefy to: "
   ]
  },
  {
   "cell_type": "code",
   "execution_count": null,
   "metadata": {
    "collapsed": true
   },
   "outputs": [],
   "source": []
  },
  {
   "cell_type": "code",
   "execution_count": 19,
   "metadata": {
    "collapsed": false
   },
   "outputs": [],
   "source": [
    "!biom summarize-table -i biom_tables/99_open_filtered_no_chimeras.biom -o biom_summaries/99_open_filtered_no_chimeras.summary\n",
    "!cat biom_summaries/99_open_filtered_no_chimeras.summary #rarefy to: "
   ]
  },
  {
   "cell_type": "code",
   "execution_count": null,
   "metadata": {
    "collapsed": true
   },
   "outputs": [],
   "source": []
  },
  {
   "cell_type": "code",
   "execution_count": 21,
   "metadata": {
    "collapsed": false
   },
   "outputs": [],
   "source": [
    "!biom summarize-table -i biom_tables/97_closed_filtered.biom -o biom_summaries/97_closed_filtered.summary\n",
    "!cat biom_summaries/97_closed_filtered.summary #rarefy to: "
   ]
  },
  {
   "cell_type": "code",
   "execution_count": 23,
   "metadata": {
    "collapsed": false
   },
   "outputs": [],
   "source": [
    "!biom summarize-table -i biom_tables/99_closed_filtered.biom -o biom_summaries/99_closed_filtered.summary\n",
    "!cat biom_summaries/99_closed_filtered.summary #rarefy to: "
   ]
  },
  {
   "cell_type": "markdown",
   "metadata": {},
   "source": [
    "### During closed-reference OTU-picking, neither an alignment nor a tree of the representative sequences is produced.  This is because QIIME will just use the full greengenes phylogeny if it needs one. But, if I want to use something else like phyloseq, then I want to have a phylogeny of the OTUs in my samples, and not the full greengenes tree, and I think this is the easiest way to get one. I'm making a new tree for the open-reference OTUs as well, because I filtered out chimeras, chloroplasts, etc."
   ]
  },
  {
   "cell_type": "raw",
   "metadata": {},
   "source": [
    "Just as an aside, if you import the full greengees tree into R and merge it into a phyloseq object, phyloseq will prune the tree so that you have what I'm about to produce here. However, I've had a really hard time getting any of the R phylogeny packages or software like FigTree to read that pruned tree properly."
   ]
  },
  {
   "cell_type": "markdown",
   "metadata": {},
   "source": [
    "#### First, convert the biom tables into classic format so that I can easily get the OTU IDs"
   ]
  },
  {
   "cell_type": "code",
   "execution_count": 35,
   "metadata": {
    "collapsed": false
   },
   "outputs": [],
   "source": [
    "!biom convert -b -i biom_tables/97_closed_filtered.biom -o biom_tables/97_closed_filtered.txt"
   ]
  },
  {
   "cell_type": "code",
   "execution_count": 36,
   "metadata": {
    "collapsed": false
   },
   "outputs": [],
   "source": [
    "!biom convert -b -i biom_tables/99_closed_filtered.biom -o biom_tables/99_closed_filtered.txt"
   ]
  },
  {
   "cell_type": "code",
   "execution_count": 40,
   "metadata": {
    "collapsed": false
   },
   "outputs": [],
   "source": [
    "!biom convert -b -i biom_tables/97_open_filtered_no_chimeras.biom -o biom_tables/97_open_filtered_no_chimeras.txt"
   ]
  },
  {
   "cell_type": "code",
   "execution_count": 39,
   "metadata": {
    "collapsed": false
   },
   "outputs": [],
   "source": [
    "!biom convert -b -i biom_tables/99_open_filtered_no_chimeras.biom -o biom_tables/99_open_filtered_no_chimeras.txt"
   ]
  },
  {
   "cell_type": "markdown",
   "metadata": {},
   "source": [
    "#### Use this stupid perl script to make a list of OTU IDs for each biom table."
   ]
  },
  {
   "cell_type": "raw",
   "metadata": {},
   "source": [
    "#!usr/bin/perl\n",
    "\n",
    "open (IN,\"biom_tables/99_open_filtered_no_chimeras.txt\");\n",
    "open (OUT, \">99_open.list\");\n",
    "\n",
    "@file = <IN>;\n",
    "\n",
    "foreach $line (@file){\n",
    "@linearray = split(/\\s+/, $line);\n",
    "if ($linearray[0] !~ /#/) {print OUT \"$linearray[0]\\n\"};\n",
    "}"
   ]
  },
  {
   "cell_type": "markdown",
   "metadata": {},
   "source": [
    "#### Extract an alignment of the taxa in my OTU table from the greengenes alignment for closed-reference, and from the repset alignment for open-reference.."
   ]
  },
  {
   "cell_type": "code",
   "execution_count": 49,
   "metadata": {
    "collapsed": false
   },
   "outputs": [],
   "source": [
    "!filter_fasta.py -f /macqiime/greengenes/gg_13_8_otus/rep_set_aligned/97_otus.fasta -o 97_closed_aligned.fasta -s 97_closed.list\n",
    "!mv 97_closed.list misc_files"
   ]
  },
  {
   "cell_type": "code",
   "execution_count": 73,
   "metadata": {
    "collapsed": false
   },
   "outputs": [],
   "source": [
    "!filter_fasta.py -f /macqiime/greengenes/gg_13_8_otus/rep_set_aligned/99_otus.fasta -o 99_closed_aligned.fasta -s 99_closed.list\n",
    "!mv 99_closed.list misc_files"
   ]
  },
  {
   "cell_type": "code",
   "execution_count": 64,
   "metadata": {
    "collapsed": false
   },
   "outputs": [],
   "source": [
    "!filter_fasta.py -f OTU_picking/SpaceSwabs_97_open_reference_otus/new_refseqs.fna -o 97_open_aligned.fasta -s 97_open.list\n",
    "!mv 97_open.list misc_files"
   ]
  },
  {
   "cell_type": "code",
   "execution_count": 65,
   "metadata": {
    "collapsed": false
   },
   "outputs": [],
   "source": [
    "!filter_fasta.py -f OTU_picking/SpaceSwabs_97_open_reference_otus/new_refseqs.fna -o 99_open_aligned.fasta -s 99_open.list\n",
    "!mv 99_open.list misc_files"
   ]
  },
  {
   "cell_type": "markdown",
   "metadata": {},
   "source": [
    "#### Build a tree from that alignment"
   ]
  },
  {
   "cell_type": "code",
   "execution_count": 53,
   "metadata": {
    "collapsed": false
   },
   "outputs": [],
   "source": [
    "!make_phylogeny.py -i 97_open_aligned.fasta"
   ]
  },
  {
   "cell_type": "code",
   "execution_count": 54,
   "metadata": {
    "collapsed": false
   },
   "outputs": [],
   "source": [
    "!make_phylogeny.py -i 99_open_aligned.fasta"
   ]
  },
  {
   "cell_type": "code",
   "execution_count": 66,
   "metadata": {
    "collapsed": false
   },
   "outputs": [],
   "source": [
    "!make_phylogeny.py -i 97_closed_aligned.fasta"
   ]
  },
  {
   "cell_type": "code",
   "execution_count": 76,
   "metadata": {
    "collapsed": false
   },
   "outputs": [],
   "source": [
    "!make_phylogeny.py -i 99_closed_aligned.fasta"
   ]
  },
  {
   "cell_type": "markdown",
   "metadata": {},
   "source": [
    "## Now, for all 4 datasets (open97, open99, closed97, closed99) I have a biom table, an alignment, and a phylogenetic tree. Now, clean up the directory."
   ]
  },
  {
   "cell_type": "code",
   "execution_count": 68,
   "metadata": {
    "collapsed": false
   },
   "outputs": [],
   "source": [
    "!mkdir open97\n",
    "!cp biom_tables/97_open_filtered_no_chimeras.biom open97/SpaceSwabs_open97.biom\n",
    "!mv 97_open_aligned.fasta open97/SpaceSwabs_open97.fasta\n",
    "!mv 97_open_aligned.tre open97/SpaceSwabs_open97.tre"
   ]
  },
  {
   "cell_type": "code",
   "execution_count": 69,
   "metadata": {
    "collapsed": false
   },
   "outputs": [],
   "source": [
    "!mkdir open99\n",
    "!cp biom_tables/99_open_filtered_no_chimeras.biom open99/SpaceSwabs_open99.biom\n",
    "!mv 99_open_aligned.fasta open99/SpaceSwabs_open99.fasta\n",
    "!mv 99_open_aligned.tre open99/SpaceSwabs_open99.tre"
   ]
  },
  {
   "cell_type": "code",
   "execution_count": 70,
   "metadata": {
    "collapsed": false
   },
   "outputs": [],
   "source": [
    "!mkdir closed97\n",
    "!cp biom_tables/97_closed_filtered.biom closed97/SpaceSwabs_closed97.biom\n",
    "!mv 97_closed_aligned.fasta closed97/SpaceSwabs_closed97.fasta\n",
    "!mv 97_closed_aligned.tre closed97/SpaceSwabs_closed97.tre"
   ]
  },
  {
   "cell_type": "code",
   "execution_count": 78,
   "metadata": {
    "collapsed": false
   },
   "outputs": [],
   "source": [
    "!mkdir closed99\n",
    "!cp biom_tables/99_closed_filtered.biom closed99/SpaceSwabs_closed99.biom\n",
    "!mv 99_closed_aligned.fasta closed99/SpaceSwabs_closed99.fasta\n",
    "!mv 99_closed_aligned.tre closed99/SpaceSwabs_closed99.tre"
   ]
  },
  {
   "cell_type": "code",
   "execution_count": 81,
   "metadata": {
    "collapsed": false
   },
   "outputs": [],
   "source": [
    "!mv SpaceSwabs.html misc_files\n",
    "!mv SpaceSwabs.log misc_files\n",
    "!mv overlib.js misc_files/"
   ]
  },
  {
   "cell_type": "markdown",
   "metadata": {},
   "source": [
    "# Core diversity analyses"
   ]
  },
  {
   "cell_type": "code",
   "execution_count": 11,
   "metadata": {
    "collapsed": false
   },
   "outputs": [],
   "source": [
    "!core_diversity_analyses.py -p parameters.txt -i open97/SpaceSwabs_open97.biom -o core_diversity/SpaceSwabs_open97 -m SpaceSwabs.txt -e 26221 -t open97/SpaceSwabs_open97.tre"
   ]
  },
  {
   "cell_type": "code",
   "execution_count": 12,
   "metadata": {
    "collapsed": false
   },
   "outputs": [],
   "source": [
    "!core_diversity_analyses.py -p parameters.txt -i open99/SpaceSwabs_open99.biom -o core_diversity/SpaceSwabs_open99 -m SpaceSwabs.txt -e 26221 -t open99/SpaceSwabs_open99.tre"
   ]
  },
  {
   "cell_type": "code",
   "execution_count": 13,
   "metadata": {
    "collapsed": false
   },
   "outputs": [],
   "source": [
    "!core_diversity_analyses.py -p parameters.txt -i closed97/SpaceSwabs_closed97.biom -o core_diversity/SpaceSwabs_closed97 -m SpaceSwabs.txt -e 25200 -t closed97/SpaceSwabs_closed97.tre"
   ]
  },
  {
   "cell_type": "code",
   "execution_count": 14,
   "metadata": {
    "collapsed": false
   },
   "outputs": [],
   "source": [
    "!core_diversity_analyses.py -p parameters.txt -i closed99/SpaceSwabs_closed99.biom -o core_diversity/SpaceSwabs_closed99 -m SpaceSwabs.txt -e 25486 -t closed99/SpaceSwabs_closed99.tre"
   ]
  },
  {
   "cell_type": "markdown",
   "metadata": {},
   "source": [
    "# Add metadata for phinch"
   ]
  },
  {
   "cell_type": "code",
   "execution_count": 16,
   "metadata": {
    "collapsed": false
   },
   "outputs": [],
   "source": [
    "!biom add-metadata -i open97/SpaceSwabs_open97.biom -m SpaceSwabs.txt -o biom_tables/SpaceSwabs_open97_wmd.biom"
   ]
  },
  {
   "cell_type": "code",
   "execution_count": null,
   "metadata": {
    "collapsed": false
   },
   "outputs": [],
   "source": [
    "!biom add-metadata -i open99/SpaceSwabs_open99.biom -m SpaceSwabs.txt -o biom_tables/SpaceSwabs_open99_wmd.biom"
   ]
  },
  {
   "cell_type": "code",
   "execution_count": null,
   "metadata": {
    "collapsed": false
   },
   "outputs": [],
   "source": [
    "!biom add-metadata -i closed97/SpaceSwabs_closed97.biom -m SpaceSwabs.txt -o biom_tables/SpaceSwabs_closed97_wmd.biom"
   ]
  },
  {
   "cell_type": "code",
   "execution_count": null,
   "metadata": {
    "collapsed": false
   },
   "outputs": [],
   "source": [
    "!biom add-metadata -i closed99/SpaceSwabs_closed99.biom -m SpaceSwabs.txt -o biom_tables/SpaceSwabs_closed99_wmd.biom"
   ]
  },
  {
   "cell_type": "markdown",
   "metadata": {},
   "source": [
    "# Additional analyses"
   ]
  },
  {
   "cell_type": "markdown",
   "metadata": {},
   "source": [
    "#### Which taxa are differentially represented in lab vs. crew nodes? To answer this, I first removed the node2 sample from the mapping file, because there is only one of those."
   ]
  },
  {
   "cell_type": "code",
   "execution_count": 5,
   "metadata": {
    "collapsed": false
   },
   "outputs": [],
   "source": [
    "!group_significance.py -i biom_tables/97_open_filtered_no_chimeras.biom -m SpaceSwabs.no2.txt -c node -s g_test -o group_significance.nodes --biom_samples_are_superset"
   ]
  },
  {
   "cell_type": "markdown",
   "metadata": {},
   "source": [
    "#### There are many significant OTUs here, but the vast majority are from just a handful of classes, so I'll collapse the taxonomy and look again."
   ]
  },
  {
   "cell_type": "code",
   "execution_count": 38,
   "metadata": {
    "collapsed": false
   },
   "outputs": [],
   "source": [
    "!summarize_taxa.py -i biom_tables/97_open_filtered_no_chimeras.biom -L 4 -o biom_tables/97_open_filtered_no_chimeras.L4\n",
    "!summarize_taxa.py -i biom_tables/97_open_filtered_no_chimeras.biom -L 3 -o biom_tables/97_open_filtered_no_chimeras.L3 -a"
   ]
  },
  {
   "cell_type": "code",
   "execution_count": 41,
   "metadata": {
    "collapsed": false
   },
   "outputs": [
    {
     "name": "stdout",
     "output_type": "stream",
     "text": [
      "No metadata in biom table.\n",
      "No metadata in biom table.\n"
     ]
    }
   ],
   "source": [
    "!group_significance.py --metadata_key taxonomy -i biom_tables/97_open_filtered_no_chimeras.L4/97_open_filtered_no_chimeras_L4.biom -m SpaceSwabs.no2.txt -c node -s g_test -o group_significance.L4.nodes --biom_samples_are_superset\n",
    "!group_significance.py --metadata_key taxonomy -i biom_tables/97_open_filtered_no_chimeras.L3/97_open_filtered_no_chimeras_L3.biom -m SpaceSwabs.no2.txt -c node -s g_test -o group_significance.L3.nodes --biom_samples_are_superset"
   ]
  },
  {
   "cell_type": "code",
   "execution_count": 46,
   "metadata": {
    "collapsed": false
   },
   "outputs": [
    {
     "name": "stdout",
     "output_type": "stream",
     "text": [
      "No metadata in biom table.\n",
      "No metadata in biom table.\n"
     ]
    }
   ],
   "source": [
    "!group_significance.py --metadata_key taxonomy -i biom_tables/97_open_filtered_no_chimeras.L4/97_open_filtered_no_chimeras_L4.biom -m SpaceSwabs.no2.txt -c touches -o group_significance.L4.touches --biom_samples_are_superset\n",
    "!group_significance.py --metadata_key taxonomy -i biom_tables/97_open_filtered_no_chimeras.L4/97_open_filtered_no_chimeras_L4.biom -m SpaceSwabs.no2.txt -c human -o group_significance.L4.human --biom_samples_are_superset"
   ]
  },
  {
   "cell_type": "code",
   "execution_count": null,
   "metadata": {
    "collapsed": false
   },
   "outputs": [],
   "source": []
  },
  {
   "cell_type": "markdown",
   "metadata": {},
   "source": [
    "#### \"No metadata in biom table.\" is just a warning."
   ]
  },
  {
   "cell_type": "markdown",
   "metadata": {},
   "source": [
    "#### There are a lot of really low-abundance OTUs that differ significantly between nodes, so I'm going to filter the biom table and run this again."
   ]
  },
  {
   "cell_type": "code",
   "execution_count": 30,
   "metadata": {
    "collapsed": false
   },
   "outputs": [
    {
     "name": "stdout",
     "output_type": "stream",
     "text": [
      "857296.0 857.296\r\n"
     ]
    }
   ],
   "source": [
    "!filter_otus_from_otu_table.py --min_count_fraction=.001 -i biom_tables/97_open_filtered_no_chimeras.biom -o biom_tables/97_open_filtered_no_chimeras.001"
   ]
  },
  {
   "cell_type": "code",
   "execution_count": 36,
   "metadata": {
    "collapsed": false
   },
   "outputs": [],
   "source": [
    "#!rm biom_tables/97_open_filtered_no_chimeras.L4.1\n",
    "!summarize_taxa.py -i biom_tables/97_open_filtered_no_chimeras.001 -L 4 -o biom_tables/97_open_filtered_no_chimeras.L4.001 -a"
   ]
  },
  {
   "cell_type": "code",
   "execution_count": 37,
   "metadata": {
    "collapsed": false
   },
   "outputs": [
    {
     "name": "stdout",
     "output_type": "stream",
     "text": [
      "No metadata in biom table.\r\n"
     ]
    }
   ],
   "source": [
    "!group_significance.py --metadata_key taxonomy -i biom_tables/97_open_filtered_no_chimeras.L4.001/97_open_filtered_no_chimeras_L4.biom -m SpaceSwabs.no2.txt -c node -s g_test -o group_significance.L4.nodes.001 --biom_samples_are_superset"
   ]
  },
  {
   "cell_type": "code",
   "execution_count": null,
   "metadata": {
    "collapsed": false
   },
   "outputs": [],
   "source": []
  }
 ],
 "metadata": {
  "kernelspec": {
   "display_name": "Python 2",
   "language": "python",
   "name": "python2"
  },
  "language_info": {
   "codemirror_mode": {
    "name": "ipython",
    "version": 2
   },
   "file_extension": ".py",
   "mimetype": "text/x-python",
   "name": "python",
   "nbconvert_exporter": "python",
   "pygments_lexer": "ipython2",
   "version": "2.7.6"
  }
 },
 "nbformat": 4,
 "nbformat_minor": 0
}
